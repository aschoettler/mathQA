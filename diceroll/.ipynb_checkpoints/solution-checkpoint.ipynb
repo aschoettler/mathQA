{
 "cells": [
  {
   "cell_type": "markdown",
   "metadata": {},
   "source": [
    "## Dice Roll Game\n",
    "\n",
    "You roll a 10-sided die repeatedly.\n",
    "On the $n$th roll the numbers 1, 2, ...n are a lose, and the others result in a win.\n",
    "\n",
    "There are many ways to win the game. To win on the nth roll one must get 're-rolls' for all prior turns, and a 10 on this one.\n",
    "\n",
    "There are $(9-1)(9-2)...(9-(n-1))$ ways to get re-rolls up through turn $n-1$ which is actually $\\frac{9!}{9 * (9-n)!}$\n",
    "\n",
    "out of a possible $10^{n-1}$ possible rolls. If we add the condition of winning this turn, that has probability $1/10$, So the probability of winning *on* turn $n$ is\n",
    "$$\\frac{P(\\text{(n-1) rerolls})}{10^{n}}$$\n",
    "\n",
    "$$=\\frac{9!}{10^{n} * 9 * (9-n)!}$$\n",
    "\n",
    "Now all we need to do is sum this up from $n=1$ to $n=9$ using Wolfram|Alpha which gives $461843/1562500$ or $29.557952\\%$"
   ]
  }
 ],
 "metadata": {
  "kernelspec": {
   "display_name": "Python 3",
   "language": "python",
   "name": "python3"
  },
  "language_info": {
   "codemirror_mode": {
    "name": "ipython",
    "version": 3
   },
   "file_extension": ".py",
   "mimetype": "text/x-python",
   "name": "python",
   "nbconvert_exporter": "python",
   "pygments_lexer": "ipython3",
   "version": "3.7.0"
  }
 },
 "nbformat": 4,
 "nbformat_minor": 2
}
